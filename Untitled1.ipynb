{
  "nbformat": 4,
  "nbformat_minor": 0,
  "metadata": {
    "colab": {
      "provenance": [],
      "toc_visible": true
    },
    "kernelspec": {
      "name": "python3",
      "display_name": "Python 3"
    },
    "language_info": {
      "name": "python"
    }
  },
  "cells": [
    {
      "cell_type": "code",
      "source": [
        "# Step 1.1: Check GPU and install required packages\n",
        "print(\"🔧 Setting up environment...\")\n",
        "\n",
        "# Check if GPU is available\n",
        "import tensorflow as tf\n",
        "print(f\"✅ GPU Available: {tf.config.list_physical_devices('GPU')}\")\n",
        "\n",
        "# Install required packages\n",
        "!pip install streamlit\n",
        "!pip install opencv-python\n",
        "!pip install pillow\n",
        "!pip install numpy\n",
        "!pip install matplotlib\n",
        "\n",
        "print(\"✅ All packages installed successfully!\")"
      ],
      "metadata": {
        "colab": {
          "base_uri": "https://localhost:8080/"
        },
        "id": "zFJ14t9IHaA9",
        "outputId": "3935660f-0ec6-49e2-ccd9-e38446de8233"
      },
      "execution_count": null,
      "outputs": [
        {
          "output_type": "stream",
          "name": "stdout",
          "text": [
            "🔧 Setting up environment...\n",
            "✅ GPU Available: []\n",
            "Requirement already satisfied: streamlit in /usr/local/lib/python3.12/dist-packages (1.49.0)\n",
            "Requirement already satisfied: altair!=5.4.0,!=5.4.1,<6,>=4.0 in /usr/local/lib/python3.12/dist-packages (from streamlit) (5.5.0)\n",
            "Requirement already satisfied: blinker<2,>=1.5.0 in /usr/local/lib/python3.12/dist-packages (from streamlit) (1.9.0)\n",
            "Requirement already satisfied: cachetools<7,>=4.0 in /usr/local/lib/python3.12/dist-packages (from streamlit) (5.5.2)\n",
            "Requirement already satisfied: click<9,>=7.0 in /usr/local/lib/python3.12/dist-packages (from streamlit) (8.2.1)\n",
            "Requirement already satisfied: numpy<3,>=1.23 in /usr/local/lib/python3.12/dist-packages (from streamlit) (2.0.2)\n",
            "Requirement already satisfied: packaging<26,>=20 in /usr/local/lib/python3.12/dist-packages (from streamlit) (25.0)\n",
            "Requirement already satisfied: pandas<3,>=1.4.0 in /usr/local/lib/python3.12/dist-packages (from streamlit) (2.2.2)\n",
            "Requirement already satisfied: pillow<12,>=7.1.0 in /usr/local/lib/python3.12/dist-packages (from streamlit) (11.3.0)\n",
            "Requirement already satisfied: protobuf<7,>=3.20 in /usr/local/lib/python3.12/dist-packages (from streamlit) (5.29.5)\n",
            "Requirement already satisfied: pyarrow>=7.0 in /usr/local/lib/python3.12/dist-packages (from streamlit) (18.1.0)\n",
            "Requirement already satisfied: requests<3,>=2.27 in /usr/local/lib/python3.12/dist-packages (from streamlit) (2.32.4)\n",
            "Requirement already satisfied: tenacity<10,>=8.1.0 in /usr/local/lib/python3.12/dist-packages (from streamlit) (8.5.0)\n",
            "Requirement already satisfied: toml<2,>=0.10.1 in /usr/local/lib/python3.12/dist-packages (from streamlit) (0.10.2)\n",
            "Requirement already satisfied: typing-extensions<5,>=4.4.0 in /usr/local/lib/python3.12/dist-packages (from streamlit) (4.14.1)\n",
            "Requirement already satisfied: watchdog<7,>=2.1.5 in /usr/local/lib/python3.12/dist-packages (from streamlit) (6.0.0)\n",
            "Requirement already satisfied: gitpython!=3.1.19,<4,>=3.0.7 in /usr/local/lib/python3.12/dist-packages (from streamlit) (3.1.45)\n",
            "Requirement already satisfied: pydeck<1,>=0.8.0b4 in /usr/local/lib/python3.12/dist-packages (from streamlit) (0.9.1)\n",
            "Requirement already satisfied: tornado!=6.5.0,<7,>=6.0.3 in /usr/local/lib/python3.12/dist-packages (from streamlit) (6.4.2)\n",
            "Requirement already satisfied: jinja2 in /usr/local/lib/python3.12/dist-packages (from altair!=5.4.0,!=5.4.1,<6,>=4.0->streamlit) (3.1.6)\n",
            "Requirement already satisfied: jsonschema>=3.0 in /usr/local/lib/python3.12/dist-packages (from altair!=5.4.0,!=5.4.1,<6,>=4.0->streamlit) (4.25.1)\n",
            "Requirement already satisfied: narwhals>=1.14.2 in /usr/local/lib/python3.12/dist-packages (from altair!=5.4.0,!=5.4.1,<6,>=4.0->streamlit) (2.1.2)\n",
            "Requirement already satisfied: gitdb<5,>=4.0.1 in /usr/local/lib/python3.12/dist-packages (from gitpython!=3.1.19,<4,>=3.0.7->streamlit) (4.0.12)\n",
            "Requirement already satisfied: python-dateutil>=2.8.2 in /usr/local/lib/python3.12/dist-packages (from pandas<3,>=1.4.0->streamlit) (2.9.0.post0)\n",
            "Requirement already satisfied: pytz>=2020.1 in /usr/local/lib/python3.12/dist-packages (from pandas<3,>=1.4.0->streamlit) (2025.2)\n",
            "Requirement already satisfied: tzdata>=2022.7 in /usr/local/lib/python3.12/dist-packages (from pandas<3,>=1.4.0->streamlit) (2025.2)\n",
            "Requirement already satisfied: charset_normalizer<4,>=2 in /usr/local/lib/python3.12/dist-packages (from requests<3,>=2.27->streamlit) (3.4.3)\n",
            "Requirement already satisfied: idna<4,>=2.5 in /usr/local/lib/python3.12/dist-packages (from requests<3,>=2.27->streamlit) (3.10)\n",
            "Requirement already satisfied: urllib3<3,>=1.21.1 in /usr/local/lib/python3.12/dist-packages (from requests<3,>=2.27->streamlit) (2.5.0)\n",
            "Requirement already satisfied: certifi>=2017.4.17 in /usr/local/lib/python3.12/dist-packages (from requests<3,>=2.27->streamlit) (2025.8.3)\n",
            "Requirement already satisfied: smmap<6,>=3.0.1 in /usr/local/lib/python3.12/dist-packages (from gitdb<5,>=4.0.1->gitpython!=3.1.19,<4,>=3.0.7->streamlit) (5.0.2)\n",
            "Requirement already satisfied: MarkupSafe>=2.0 in /usr/local/lib/python3.12/dist-packages (from jinja2->altair!=5.4.0,!=5.4.1,<6,>=4.0->streamlit) (3.0.2)\n",
            "Requirement already satisfied: attrs>=22.2.0 in /usr/local/lib/python3.12/dist-packages (from jsonschema>=3.0->altair!=5.4.0,!=5.4.1,<6,>=4.0->streamlit) (25.3.0)\n",
            "Requirement already satisfied: jsonschema-specifications>=2023.03.6 in /usr/local/lib/python3.12/dist-packages (from jsonschema>=3.0->altair!=5.4.0,!=5.4.1,<6,>=4.0->streamlit) (2025.4.1)\n",
            "Requirement already satisfied: referencing>=0.28.4 in /usr/local/lib/python3.12/dist-packages (from jsonschema>=3.0->altair!=5.4.0,!=5.4.1,<6,>=4.0->streamlit) (0.36.2)\n",
            "Requirement already satisfied: rpds-py>=0.7.1 in /usr/local/lib/python3.12/dist-packages (from jsonschema>=3.0->altair!=5.4.0,!=5.4.1,<6,>=4.0->streamlit) (0.27.0)\n",
            "Requirement already satisfied: six>=1.5 in /usr/local/lib/python3.12/dist-packages (from python-dateutil>=2.8.2->pandas<3,>=1.4.0->streamlit) (1.17.0)\n",
            "Requirement already satisfied: opencv-python in /usr/local/lib/python3.12/dist-packages (4.12.0.88)\n",
            "Requirement already satisfied: numpy<2.3.0,>=2 in /usr/local/lib/python3.12/dist-packages (from opencv-python) (2.0.2)\n",
            "Requirement already satisfied: pillow in /usr/local/lib/python3.12/dist-packages (11.3.0)\n",
            "Requirement already satisfied: numpy in /usr/local/lib/python3.12/dist-packages (2.0.2)\n",
            "Requirement already satisfied: matplotlib in /usr/local/lib/python3.12/dist-packages (3.10.0)\n",
            "Requirement already satisfied: contourpy>=1.0.1 in /usr/local/lib/python3.12/dist-packages (from matplotlib) (1.3.3)\n",
            "Requirement already satisfied: cycler>=0.10 in /usr/local/lib/python3.12/dist-packages (from matplotlib) (0.12.1)\n",
            "Requirement already satisfied: fonttools>=4.22.0 in /usr/local/lib/python3.12/dist-packages (from matplotlib) (4.59.1)\n",
            "Requirement already satisfied: kiwisolver>=1.3.1 in /usr/local/lib/python3.12/dist-packages (from matplotlib) (1.4.9)\n",
            "Requirement already satisfied: numpy>=1.23 in /usr/local/lib/python3.12/dist-packages (from matplotlib) (2.0.2)\n",
            "Requirement already satisfied: packaging>=20.0 in /usr/local/lib/python3.12/dist-packages (from matplotlib) (25.0)\n",
            "Requirement already satisfied: pillow>=8 in /usr/local/lib/python3.12/dist-packages (from matplotlib) (11.3.0)\n",
            "Requirement already satisfied: pyparsing>=2.3.1 in /usr/local/lib/python3.12/dist-packages (from matplotlib) (3.2.3)\n",
            "Requirement already satisfied: python-dateutil>=2.7 in /usr/local/lib/python3.12/dist-packages (from matplotlib) (2.9.0.post0)\n",
            "Requirement already satisfied: six>=1.5 in /usr/local/lib/python3.12/dist-packages (from python-dateutil>=2.7->matplotlib) (1.17.0)\n",
            "✅ All packages installed successfully!\n"
          ]
        }
      ]
    },
    {
      "cell_type": "code",
      "source": [
        "# Step 1.2: Import all necessary libraries\n",
        "import streamlit as st\n",
        "import cv2\n",
        "import numpy as np\n",
        "import matplotlib.pyplot as plt\n",
        "from PIL import Image\n",
        "import tensorflow as tf\n",
        "from tensorflow.keras import layers, models\n",
        "from tensorflow.keras.applications import ResNet50\n",
        "import json\n",
        "import time\n",
        "import os\n",
        "from datetime import datetime\n",
        "\n",
        "print(\"✅ All libraries imported successfully!\")\n",
        "print(f\"📋 TensorFlow version: {tf.__version__}\")\n",
        "print(f\"📋 OpenCV version: {cv2.__version__}\")"
      ],
      "metadata": {
        "colab": {
          "base_uri": "https://localhost:8080/"
        },
        "id": "bnQjSXvwIcQz",
        "outputId": "a27ac1e4-2740-4468-ff3d-b4454b6edd8c"
      },
      "execution_count": null,
      "outputs": [
        {
          "output_type": "stream",
          "name": "stdout",
          "text": [
            "✅ All libraries imported successfully!\n",
            "📋 TensorFlow version: 2.19.0\n",
            "📋 OpenCV version: 4.12.0\n"
          ]
        }
      ]
    },
    {
      "cell_type": "code",
      "source": [
        "# Step 1.3: Create folder structure in Google Colab\n",
        "import os\n",
        "\n",
        "# Create main project folders\n",
        "folders = [\n",
        "    '/content/car_model_detector',\n",
        "    '/content/car_model_detector/core',\n",
        "    '/content/car_model_detector/models',\n",
        "    '/content/car_model_detector/data',\n",
        "    '/content/car_model_detector/temp_uploads',\n",
        "    '/content/car_model_detector/results'\n",
        "]\n",
        "\n",
        "for folder in folders:\n",
        "    os.makedirs(folder, exist_ok=True)\n",
        "    print(f\"✅ Created: {folder}\")\n",
        "\n",
        "# Verify folder structure\n",
        "print(\"\\n📁 Project structure:\")\n",
        "!ls -la /content/car_model_detector/"
      ],
      "metadata": {
        "colab": {
          "base_uri": "https://localhost:8080/"
        },
        "id": "FRUl1H0RIgT8",
        "outputId": "df053493-5084-4b13-e18f-18b14e377958"
      },
      "execution_count": null,
      "outputs": [
        {
          "output_type": "stream",
          "name": "stdout",
          "text": [
            "✅ Created: /content/car_model_detector\n",
            "✅ Created: /content/car_model_detector/core\n",
            "✅ Created: /content/car_model_detector/models\n",
            "✅ Created: /content/car_model_detector/data\n",
            "✅ Created: /content/car_model_detector/temp_uploads\n",
            "✅ Created: /content/car_model_detector/results\n",
            "\n",
            "📁 Project structure:\n",
            "total 28\n",
            "drwxr-xr-x 7 root root 4096 Aug 27 10:45 .\n",
            "drwxr-xr-x 1 root root 4096 Aug 27 10:45 ..\n",
            "drwxr-xr-x 2 root root 4096 Aug 27 10:45 core\n",
            "drwxr-xr-x 2 root root 4096 Aug 27 10:46 data\n",
            "drwxr-xr-x 2 root root 4096 Aug 27 10:45 models\n",
            "drwxr-xr-x 2 root root 4096 Aug 27 10:45 results\n",
            "drwxr-xr-x 2 root root 4096 Aug 27 10:45 temp_uploads\n"
          ]
        }
      ]
    },
    {
      "cell_type": "code",
      "source": [
        "# Step 1.4: Create car database with model information\n",
        "car_database = {\n",
        "    \"bmw_3_series\": {\n",
        "        \"model\": \"3 Series\",\n",
        "        \"company\": \"BMW\",\n",
        "        \"type\": \"Sedan\",\n",
        "        \"class_id\": 0\n",
        "    },\n",
        "    \"toyota_camry\": {\n",
        "        \"model\": \"Camry\",\n",
        "        \"company\": \"Toyota\",\n",
        "        \"type\": \"Sedan\",\n",
        "        \"class_id\": 1\n",
        "    },\n",
        "    \"honda_civic\": {\n",
        "        \"model\": \"Civic\",\n",
        "        \"company\": \"Honda\",\n",
        "        \"type\": \"Sedan\",\n",
        "        \"class_id\": 2\n",
        "    }\n",
        "}\n",
        "\n",
        "# Save to JSON file\n",
        "import json\n",
        "database_path = '/content/car_model_detector/data/car_database.json'\n",
        "\n",
        "with open(database_path, 'w') as f:\n",
        "    json.dump(car_database, f, indent=4)\n",
        "\n",
        "print(\"✅ Car database created successfully!\")\n",
        "\n",
        "# Verify the file was created\n",
        "with open(database_path, 'r') as f:\n",
        "    loaded_data = json.load(f)\n",
        "    print(f\"📋 Database contains {len(loaded_data)} car models:\")\n",
        "    for key, value in loaded_data.items():\n",
        "        print(f\"   • {value['model']} ({value['company']})\")"
      ],
      "metadata": {
        "colab": {
          "base_uri": "https://localhost:8080/"
        },
        "id": "2Zsuqg0VItau",
        "outputId": "1b38152e-8897-43ae-ce6c-04860c5386ec"
      },
      "execution_count": null,
      "outputs": [
        {
          "output_type": "stream",
          "name": "stdout",
          "text": [
            "✅ Car database created successfully!\n",
            "📋 Database contains 3 car models:\n",
            "   • 3 Series (BMW)\n",
            "   • Camry (Toyota)\n",
            "   • Civic (Honda)\n"
          ]
        }
      ]
    },
    {
      "cell_type": "code",
      "source": [
        "# Step 2.1: Multi-Scale Edge Detection Implementation\n",
        "def multi_scale_edge_detection(image, output_size=(224, 224)):\n",
        "    \"\"\"\n",
        "    Apply multi-scale edge detection with 1px, 2px, 3px variations\n",
        "    Args:\n",
        "        image: Input image (PIL Image or numpy array)\n",
        "        output_size: Target size for output image\n",
        "    Returns:\n",
        "        edge_image: Processed edge-detected image\n",
        "    \"\"\"\n",
        "\n",
        "    # Convert PIL Image to numpy array if needed\n",
        "    if hasattr(image, 'mode'):  # It's a PIL Image\n",
        "        image = np.array(image)\n",
        "\n",
        "    # Convert to grayscale if it's color image\n",
        "    if len(image.shape) == 3:\n",
        "        gray = cv2.cvtColor(image, cv2.COLOR_RGB2GRAY)\n",
        "    else:\n",
        "        gray = image.copy()\n",
        "\n",
        "    # Apply multi-scale edge detection (1px, 2px, 3px blur)\n",
        "    edges_collection = []\n",
        "    blur_sizes = [1, 3, 5]  # Corresponds to 1px, 2px, 3px blur\n",
        "\n",
        "    for blur_size in blur_sizes:\n",
        "        # Apply Gaussian blur\n",
        "        blurred = cv2.GaussianBlur(gray, (blur_size, blur_size), 0)\n",
        "\n",
        "        # Apply Canny edge detection\n",
        "        edges = cv2.Canny(blurred, 50, 150)\n",
        "        edges_collection.append(edges)\n",
        "\n",
        "    # Combine all edge detections (take maximum - union of edges)\n",
        "    final_edges = np.maximum.reduce(edges_collection)\n",
        "\n",
        "    # Resize to target size\n",
        "    final_edges = cv2.resize(final_edges, output_size)\n",
        "\n",
        "    # Convert back to 3-channel RGB for CNN compatibility\n",
        "    edge_rgb = cv2.cvtColor(final_edges, cv2.COLOR_GRAY2RGB)\n",
        "\n",
        "    return edge_rgb\n",
        "\n",
        "print(\"✅ Multi-scale edge detection function created!\")"
      ],
      "metadata": {
        "colab": {
          "base_uri": "https://localhost:8080/"
        },
        "id": "GzQ06uCoIy7E",
        "outputId": "991f67ae-f073-4a60-a9e3-46c3d31460de"
      },
      "execution_count": null,
      "outputs": [
        {
          "output_type": "stream",
          "name": "stdout",
          "text": [
            "✅ Multi-scale edge detection function created!\n"
          ]
        }
      ]
    },
    {
      "cell_type": "code",
      "source": [
        "# Step 2.2: Test the edge detection function with a sample image\n",
        "def create_test_image():\n",
        "    \"\"\"Create a simple test image to verify edge detection works\"\"\"\n",
        "\n",
        "    # Create a simple test image (white rectangle on black background)\n",
        "    test_img = np.zeros((200, 300, 3), dtype=np.uint8)\n",
        "    cv2.rectangle(test_img, (50, 50), (250, 150), (255, 255, 255), -1)\n",
        "    cv2.rectangle(test_img, (100, 75), (200, 125), (128, 128, 128), -1)\n",
        "\n",
        "    return test_img\n",
        "\n",
        "# Create test image\n",
        "test_image = create_test_image()\n",
        "print(f\"✅ Test image created with shape: {test_image.shape}\")\n",
        "\n",
        "# Apply edge detection\n",
        "try:\n",
        "    edges_result = multi_scale_edge_detection(test_image)\n",
        "    print(f\"✅ Edge detection successful! Result shape: {edges_result.shape}\")\n",
        "    print(f\"✅ Edge image min/max values: {edges_result.min()}/{edges_result.max()}\")\n",
        "\n",
        "    # Display the results\n",
        "    plt.figure(figsize=(10, 4))\n",
        "\n",
        "    plt.subplot(1, 2, 1)\n",
        "    plt.imshow(test_image)\n",
        "    plt.title('Original Test Image')\n",
        "    plt.axis('off')\n",
        "\n",
        "    plt.subplot(1, 2, 2)\n",
        "    plt.imshow(edges_result)\n",
        "    plt.title('Multi-Scale Edge Detection')\n",
        "    plt.axis('off')\n",
        "\n",
        "    plt.tight_layout()\n",
        "    plt.show()\n",
        "\n",
        "except Exception as e:\n",
        "    print(f\"❌ Error in edge detection: {e}\")"
      ],
      "metadata": {
        "colab": {
          "base_uri": "https://localhost:8080/",
          "height": 459
        },
        "id": "5Ad3SIIWJE1C",
        "outputId": "fa445d54-881d-4044-a473-2401ca0d1ab4"
      },
      "execution_count": null,
      "outputs": [
        {
          "output_type": "stream",
          "name": "stdout",
          "text": [
            "✅ Test image created with shape: (200, 300, 3)\n",
            "✅ Edge detection successful! Result shape: (224, 224, 3)\n",
            "✅ Edge image min/max values: 0/255\n"
          ]
        },
        {
          "output_type": "display_data",
          "data": {
            "text/plain": [
              "<Figure size 1000x400 with 2 Axes>"
            ],
            "image/png": "[encoded data removed]"
          },
          "metadata": {}
        }
      ]
    },
    {
      "cell_type": "code",
      "source": [
        "# Step 2.3: Complete image preprocessing pipeline\n",
        "def preprocess_image_for_model(uploaded_file):\n",
        "    \"\"\"\n",
        "    Complete preprocessing pipeline for uploaded images\n",
        "    Args:\n",
        "        uploaded_file: Streamlit uploaded file object or image array\n",
        "    Returns:\n",
        "        original_image: Original image for display\n",
        "        processed_image: Edge-detected image for model\n",
        "        is_valid: Boolean indicating if processing was successful\n",
        "    \"\"\"\n",
        "\n",
        "    try:\n",
        "        # Load image\n",
        "        if hasattr(uploaded_file, 'read'):  # Streamlit uploaded file\n",
        "            image = Image.open(uploaded_file)\n",
        "            original_image = np.array(image)\n",
        "        else:  # Already a numpy array\n",
        "            original_image = uploaded_file\n",
        "\n",
        "        # Ensure image is RGB\n",
        "        if len(original_image.shape) == 3 and original_image.shape[2] == 4:\n",
        "            # Convert RGBA to RGB\n",
        "            original_image = cv2.cvtColor(original_image, cv2.COLOR_RGBA2RGB)\n",
        "        elif len(original_image.shape) == 3 and original_image.shape[2] == 3:\n",
        "            # Already RGB, no change needed\n",
        "            pass\n",
        "        else:\n",
        "            # Grayscale to RGB\n",
        "            original_image = cv2.cvtColor(original_image, cv2.COLOR_GRAY2RGB)\n",
        "\n",
        "        # Apply multi-scale edge detection\n",
        "        processed_image = multi_scale_edge_detection(original_image)\n",
        "\n",
        "        # Normalize for model (0-1 range)\n",
        "        processed_image = processed_image.astype('float32') / 255.0\n",
        "\n",
        "        # Add batch dimension for model prediction\n",
        "        processed_image = np.expand_dims(processed_image, axis=0)\n",
        "\n",
        "        return original_image, processed_image, True\n",
        "\n",
        "    except Exception as e:\n",
        "        print(f\"❌ Error in preprocessing: {e}\")\n",
        "        return None, None, False\n",
        "\n",
        "print(\"✅ Image preprocessing pipeline created!\")"
      ],
      "metadata": {
        "colab": {
          "base_uri": "https://localhost:8080/"
        },
        "id": "iJKJn0nhJOg-",
        "outputId": "422bbf90-6561-439e-a926-b4caae1bb97f"
      },
      "execution_count": null,
      "outputs": [
        {
          "output_type": "stream",
          "name": "stdout",
          "text": [
            "✅ Image preprocessing pipeline created!\n"
          ]
        }
      ]
    },
    {
      "cell_type": "code",
      "source": [
        "# Step 2.4: Test the complete preprocessing pipeline\n",
        "# Create a more complex test image\n",
        "def create_complex_test_image():\n",
        "    \"\"\"Create a more complex test image similar to car features\"\"\"\n",
        "\n",
        "    img = np.zeros((300, 400, 3), dtype=np.uint8)\n",
        "    img.fill(240)  # Light gray background\n",
        "\n",
        "    # Draw car-like shapes\n",
        "    # Main body\n",
        "    cv2.rectangle(img, (50, 150), (350, 250), (100, 100, 100), -1)\n",
        "\n",
        "    # Windows\n",
        "    cv2.rectangle(img, (80, 160), (150, 200), (200, 200, 255), -1)\n",
        "    cv2.rectangle(img, (250, 160), (320, 200), (200, 200, 255), -1)\n",
        "\n",
        "    # Wheels\n",
        "    cv2.circle(img, (100, 250), 30, (50, 50, 50), -1)\n",
        "    cv2.circle(img, (300, 250), 30, (50, 50, 50), -1)\n",
        "\n",
        "    return img\n",
        "\n",
        "# Test preprocessing pipeline\n",
        "complex_test = create_complex_test_image()\n",
        "\n",
        "original, processed, success = preprocess_image_for_model(complex_test)\n",
        "\n",
        "if success:\n",
        "    print(\"✅ Preprocessing pipeline test successful!\")\n",
        "    print(f\"✅ Original shape: {original.shape}\")\n",
        "    print(f\"✅ Processed shape: {processed.shape}\")\n",
        "    print(f\"✅ Processed range: {processed.min():.3f} to {processed.max():.3f}\")\n",
        "\n",
        "    # Display results\n",
        "    plt.figure(figsize=(12, 4))\n",
        "\n",
        "    plt.subplot(1, 3, 1)\n",
        "    plt.imshow(original)\n",
        "    plt.title('Original Test Image')\n",
        "    plt.axis('off')\n",
        "\n",
        "    plt.subplot(1, 3, 2)\n",
        "    plt.imshow(processed[0])  # Remove batch dimension for display\n",
        "    plt.title('Multi-Scale Edges')\n",
        "    plt.axis('off')\n",
        "\n",
        "    plt.subplot(1, 3, 3)\n",
        "    # Show edge strength as heatmap\n",
        "    edge_gray = cv2.cvtColor(processed[0], cv2.COLOR_RGB2GRAY)\n",
        "    plt.imshow(edge_gray, cmap='hot')\n",
        "    plt.title('Edge Strength Heatmap')\n",
        "    plt.axis('off')\n",
        "\n",
        "    plt.tight_layout()\n",
        "    plt.show()\n",
        "\n",
        "else:\n",
        "    print(\"❌ Preprocessing pipeline test failed!\")"
      ],
      "metadata": {
        "colab": {
          "base_uri": "https://localhost:8080/",
          "height": 436
        },
        "id": "MzOMWiBdJaXj",
        "outputId": "e952b0d4-b20a-4823-b1d2-c85ad52df64f"
      },
      "execution_count": null,
      "outputs": [
        {
          "output_type": "stream",
          "name": "stdout",
          "text": [
            "✅ Preprocessing pipeline test successful!\n",
            "✅ Original shape: (300, 400, 3)\n",
            "✅ Processed shape: (1, 224, 224, 3)\n",
            "✅ Processed range: 0.000 to 1.000\n"
          ]
        },
        {
          "output_type": "display_data",
          "data": {
            "text/plain": [
              "<Figure size 1200x400 with 3 Axes>"
            ],
            "image/png": "[encoded data removed]"
          },
          "metadata": {}
        }
      ]
    }
  ]
}